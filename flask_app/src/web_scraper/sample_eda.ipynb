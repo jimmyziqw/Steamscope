{
 "cells": [
  {
   "cell_type": "code",
   "execution_count": 2,
   "metadata": {},
   "outputs": [
    {
     "name": "stdout",
     "output_type": "stream",
     "text": [
      "dict_keys(['recommendationid', 'author', 'language', 'review', 'timestamp_created', 'timestamp_updated', 'voted_up', 'votes_up', 'votes_funny', 'weighted_vote_score', 'comment_count', 'steam_purchase', 'received_for_free', 'written_during_early_access', 'hidden_in_steam_china', 'steam_china_location'])\n"
     ]
    }
   ],
   "source": [
    "from web_scraper import get_n_reviews\n",
    "APP_ID = 1145360\n",
    "NUM_REVIEWS = 1000\n",
    "import pandas as pd\n",
    "data = get_n_reviews(APP_ID,NUM_REVIEWS)\n",
    "\n",
    "data = [dict(review=datum[\"review\"],\n",
    "                playtime=datum[\"author\"][\"playtime_forever\"],\n",
    "                helpfulness=datum[\"votes_up\"],\n",
    "                sentiment = datum[\"voted_up\"])\n",
    "        for datum in data]\n",
    "import json\n",
    "# with open(\"sample.json\", \"w\") as f:\n",
    "#         json.dump(data, f, indent=4)\n",
    "        \n",
    "df = pd.DataFrame(data)\n",
    "pd.set_option('display.max_columns', None)\n",
    "df.drop_duplicates(inplace=True)\n",
    "\n",
    "df[\"review\"] = df[\"review\"].apply(lambda x: x[:50] if len(x)>50 else x)\n",
    "df = df.sort_values(by=\"helpfulness\",ascending=False)\n",
    "\n"
   ]
  },
  {
   "cell_type": "markdown",
   "metadata": {},
   "source": []
  },
  {
   "cell_type": "code",
   "execution_count": 1,
   "metadata": {},
   "outputs": [
    {
     "data": {
      "text/plain": [
       "''"
      ]
     },
     "execution_count": 1,
     "metadata": {},
     "output_type": "execute_result"
    }
   ],
   "source": [
    "import re\n",
    "def remove_newlines_and_tags(text):\n",
    "    # Remove newline characters\n",
    "    text = re.sub(r'\\n', '', text)\n",
    "    \n",
    "    # Remove HTML tags\n",
    "    text = re.sub(r'<[^>]+>', '', text)\n",
    "    \n",
    "    return text\n",
    "def clean_review(text):\n",
    "    # Remove newline characters\n",
    "    text = re.sub(r'\\n', ' ', text)\n",
    "    # Remove text enclosed by \"---{\" and \"}---\"\n",
    "    text = re.sub(r'---\\{[^}]+\\}---', '', text)\n",
    "    # Remove text enclosed by \"☐\" or \"☑\" and line breaks\n",
    "    text = re.sub(r'☐ [^\\n]+|☑ [^\\n]+', '', text)\n",
    "    # Remove multiple spaces\n",
    "    text = re.sub(r'\\s{2,}', ' ', text)\n",
    "    return text.strip()\n",
    "\n",
    "input_text = \"---{ Graphics }--- ☐ You forget what reality is ☑ Beautiful ☐ Good ☐ Decent ☐ Bad ☐ Don‘t look too long at it ☐ MS-DOS ---{ gameplay }--- ☑ Very good ☐ Good ☐ It's just gameplay ☐ Mehh ☐ Watch paint dry instead ☐ Just don't ---{ Audio }--- ☐ Eargasm ☐ Very good ☑ Good ☐ Not too bad ☐ Bad ☐ I'm now deaf ---{ Audience }--- ☐ Kids ☑ Teens ☑ Adults ☐ Grandma ---{ PC Requirements }--- ☐ Check if you can run paint ☑ Potato ☐ Decent ☐ Fast ☐ Rich boi ☐ Ask NASA if they have a spare computer ---{ Difficulty }--- ☐ Just press 'W' ☐ Easy ☑ Easy to learn / Hard to master ☐ Significant brain usage ☐ Difficult ☐ Dark Souls ---{ Grind }--- ☐ Nothing to grind ☐ Only if u care about leaderboards/ranks ☐ Isn't necessary to progress ☐ Average grind level ☑ Too much grind ☐ You'll need a second life for grinding ---{ Story }--- ☐ No Story ☐ Some lore ☐ Average ☑ Good ☐ Lovely ☐ It'll replace your life ---{ Game Time }--- ☐ Long enough for a cup of coffee ☐ Short ☐ Average ☑ Long ☐ To infinity and beyond ---{ Price }--- ☐ It's free! ☑ Worth the price ☐ If it's on sale ☐ If u have some spare money left ☐ Not recommended ☐ You could also just burn your money ---{ Bugs }--- ☑ Never heard of ☐ Minor bugs ☐ Can get annoying ☐ ARK: Survival Evolved ☐ The game itself is a big terrarium for bugs ---{ ? / 10 }--- ☐ 1 ☐ 2 ☐ 3 ☐ 4 ☐ 5 ☐ 6 ☐ 7 ☐\" \n",
    "clean_review(input_text)"
   ]
  },
  {
   "cell_type": "code",
   "execution_count": null,
   "metadata": {},
   "outputs": [],
   "source": []
  }
 ],
 "metadata": {
  "kernelspec": {
   "display_name": "venv",
   "language": "python",
   "name": "python3"
  },
  "language_info": {
   "codemirror_mode": {
    "name": "ipython",
    "version": 3
   },
   "file_extension": ".py",
   "mimetype": "text/x-python",
   "name": "python",
   "nbconvert_exporter": "python",
   "pygments_lexer": "ipython3",
   "version": "3.8.8"
  },
  "orig_nbformat": 4
 },
 "nbformat": 4,
 "nbformat_minor": 2
}
